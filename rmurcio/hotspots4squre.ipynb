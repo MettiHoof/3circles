{
 "cells": [
  {
   "cell_type": "markdown",
   "metadata": {},
   "source": [
    "<H1>Movement data</H1>\n",
    "\n",
    "<b>Min date:</b> 2017-04<br>\n",
    "<b>Max date:</b> 2019-03<br>\n",
    "\n",
    "\n"
   ]
  },
  {
   "cell_type": "code",
   "execution_count": 101,
   "metadata": {},
   "outputs": [],
   "source": [
    "import pandas as pd\n",
    "#Read frequency file\n",
    "df = pd.read_csv('/Users/casa/Documents/fsquare/freqpairs.csv')"
   ]
  },
  {
   "cell_type": "code",
   "execution_count": 105,
   "metadata": {},
   "outputs": [
    {
     "name": "stdout",
     "output_type": "stream",
     "text": [
      "This table contais all the ocurrences of a pair, and the sum of its check during the whole period\n",
      "Number of pairs : 4834661\n",
      "First ten\n",
      "                       venue1                    venue2  freq  checks\n",
      "881  4ad7a112f964a520050d21e3  4ad6bf91f964a520380821e3    28   10470\n",
      "52   4acd8e7df964a52044cc20e3  4acd8e7df964a52044cc20e3    36   10283\n",
      "238  4ae83e74f964a5204bae21e3  4ae83e74f964a5204bae21e3    32    6498\n",
      "833  4acbc300f964a52058c520e3  4acbc300f964a52058c520e3    28    6238\n",
      "882  4ad7a112f964a520050d21e3  4ad7a112f964a520050d21e3    28    5587\n",
      "121  4ad7a112f964a520050d21e3  4c18fe2d6a21c9b670d6c997    34    4094\n",
      "487  4ad7a112f964a520050d21e3  4cab3d0ba6e08cfa12d4a394    30    3949\n",
      "449  4ac518f7f964a520c6af20e3  4ac518f7f964a520c6af20e3    30    3902\n",
      "694  4af47862f964a520d6f221e3  4af47862f964a520d6f221e3    29    3793\n",
      "4    4ac518f6f964a52052af20e3  4ac518f6f964a52052af20e3    40    3750\n",
      "Pairs with freq > 10\n",
      "46686\n",
      "So we have a tail of > 4,790,000\n"
     ]
    }
   ],
   "source": [
    "print(\"This table contais all the ocurrences of a pair, and the sum of its check during the whole period\")\n",
    "print(\"Number of pairs : \" + str(df.shape[0]))\n",
    "print(\"First ten\")\n",
    "print(df.sort_values(by=['checks'],ascending=False).head(10))\n",
    "df10=df1[df1['freq']>10]\n",
    "print(\"Pairs with freq > 10\")\n",
    "print(df10['checks'].count())\n",
    "print(\"So we have a tail of > 4,790,000\")"
   ]
  },
  {
   "cell_type": "markdown",
   "metadata": {},
   "source": [
    "### In the first 10  Venue1=Venue2, i.e., at these locations are self-contained hotspots"
   ]
  },
  {
   "cell_type": "code",
   "execution_count": 88,
   "metadata": {},
   "outputs": [
    {
     "name": "stdout",
     "output_type": "stream",
     "text": [
      "Messing aroundn with pw\n"
     ]
    },
    {
     "data": {
      "image/png": "[encoded data removed]",
      "text/plain": [
       "<Figure size 432x288 with 1 Axes>"
      ]
     },
     "metadata": {
      "needs_background": "light"
     },
     "output_type": "display_data"
    },
    {
     "name": "stdout",
     "output_type": "stream",
     "text": [
      "('alpha= ', 1.6325616812327204, '  sigma= ', 0.00028768675421667923)\n"
     ]
    }
   ],
   "source": [
    "print(\"Messing aroundn with pw\")\n",
    "import powerlaw as pw\n",
    "fit = pw.Fit(np.array(df['checks'])+1,xmin=1,discrete=True)\n",
    "fit.power_law.plot_pdf( color= 'b',linestyle='--',label='fit ccdf')\n",
    "fit.plot_pdf( color= 'g')\n",
    "#fit.plot_ccdf(color = 'r')\n",
    "plt.show()\n",
    "print('alpha= ',fit.power_law.alpha,'  sigma= ',fit.power_law.sigma)"
   ]
  },
  {
   "cell_type": "code",
   "execution_count": 89,
   "metadata": {},
   "outputs": [
    {
     "name": "stdout",
     "output_type": "stream",
     "text": [
      "Only freqs >10\n"
     ]
    },
    {
     "data": {
      "image/png": "[encoded data removed]",
      "text/plain": [
       "<Figure size 432x288 with 1 Axes>"
      ]
     },
     "metadata": {
      "needs_background": "light"
     },
     "output_type": "display_data"
    },
    {
     "name": "stdout",
     "output_type": "stream",
     "text": [
      "('alpha= ', 1.2372461777598958, '  sigma= ', 0.0010980089786565043)\n"
     ]
    }
   ],
   "source": [
    "print(\"Only freqs >10\" )\n",
    "fit = pw.Fit(np.array(df10['checks'])+1,xmin=1,discrete=True)\n",
    "fit.power_law.plot_pdf( color= 'b',linestyle='--',label='fit ccdf')\n",
    "fit.plot_pdf(color= 'b')\n",
    "\n",
    "plt.show()\n",
    "print('alpha= ',fit.power_law.alpha,'  sigma= ',fit.power_law.sigma)"
   ]
  },
  {
   "cell_type": "code",
   "execution_count": 107,
   "metadata": {},
   "outputs": [
    {
     "name": "stdout",
     "output_type": "stream",
     "text": [
      "What about time of the day?\n"
     ]
    }
   ],
   "source": [
    "print(\"What about time of the day?\")\n",
    "#Read frequency by time of the day file\n",
    "dft = pd.read_csv('/Users/casa/Documents/fsquare/freqpairsbytime.csv')"
   ]
  },
  {
   "cell_type": "code",
   "execution_count": 108,
   "metadata": {},
   "outputs": [
    {
     "name": "stdout",
     "output_type": "stream",
     "text": [
      "This table contais all the ocurrences of a pair, and the sum of its check during the whole period\n",
      "Number of pairs : 486\n",
      "First ten\n",
      "                       venue1                    venue2      timed  freq  \\\n",
      "71   4ad7a112f964a520050d21e3  4cab3d0ba6e08cfa12d4a394      NIGHT    12   \n",
      "299  4ae83e74f964a5204bae21e3  4ad7a112f964a520050d21e3    MORNING    11   \n",
      "67   4ace295ff964a520ccce20e3  4ace295ff964a520ccce20e3      NIGHT    12   \n",
      "60   4ac518f6f964a52052af20e3  506999643d7cfe42e733a829      NIGHT    12   \n",
      "297  4ae6dd87f964a52060a721e3  4ae5b238f964a52087a121e3  AFTERNOON    11   \n",
      "287  4add5a40f964a520e76421e3  4c4d624bdb2c20a12730b972  AFTERNOON    11   \n",
      "475  5453e1bc498eee46cdd2546e  4ac518d2f964a52026a720e3      NIGHT    11   \n",
      "62   4acbc300f964a52058c520e3  4ac518f6f964a52052af20e3  AFTERNOON    12   \n",
      "20   4ae83e74f964a5204bae21e3  4acd8e7df964a52044cc20e3  AFTERNOON    13   \n",
      "164  4ac518cef964a520f8a520e3  4acee9a4f964a5200ed220e3     MIDDAY    11   \n",
      "\n",
      "     checks  \n",
      "71     2010  \n",
      "299     866  \n",
      "67      856  \n",
      "60      469  \n",
      "297     450  \n",
      "287     352  \n",
      "475     338  \n",
      "62      318  \n",
      "20      303  \n",
      "164     301  \n"
     ]
    }
   ],
   "source": [
    "print(\"This table contais all the ocurrences of a pair, and the sum of its check during the whole period\")\n",
    "print(\"Number of pairs : \" + str(dft.shape[0]))\n",
    "print(\"First ten\")\n",
    "print(dft.sort_values(by=['checks'],ascending=False).head(10))"
   ]
  },
  {
   "cell_type": "code",
   "execution_count": null,
   "metadata": {},
   "outputs": [],
   "source": []
  }
 ],
 "metadata": {
  "kernelspec": {
   "display_name": "Python 2",
   "language": "python",
   "name": "python2"
  },
  "language_info": {
   "codemirror_mode": {
    "name": "ipython",
    "version": 2
   },
   "file_extension": ".py",
   "mimetype": "text/x-python",
   "name": "python",
   "nbconvert_exporter": "python",
   "pygments_lexer": "ipython2",
   "version": "2.7.15"
  }
 },
 "nbformat": 4,
 "nbformat_minor": 2
}
