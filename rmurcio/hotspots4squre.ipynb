{
 "cells": [
  {
   "cell_type": "code",
   "execution_count": 1,
   "metadata": {},
   "outputs": [],
   "source": [
    "import pandas as pd\n",
    "#Read frequency file\n",
    "df = pd.read_csv('/Users/casa/Documents/fsquare/freqpairs.csv')"
   ]
  },
  {
   "cell_type": "code",
   "execution_count": 6,
   "metadata": {},
   "outputs": [
    {
     "data": {
      "text/html": [
       "<div>\n",
       "<style scoped>\n",
       "    .dataframe tbody tr th:only-of-type {\n",
       "        vertical-align: middle;\n",
       "    }\n",
       "\n",
       "    .dataframe tbody tr th {\n",
       "        vertical-align: top;\n",
       "    }\n",
       "\n",
       "    .dataframe thead th {\n",
       "        text-align: right;\n",
       "    }\n",
       "</style>\n",
       "<table border=\"1\" class=\"dataframe\">\n",
       "  <thead>\n",
       "    <tr style=\"text-align: right;\">\n",
       "      <th></th>\n",
       "      <th>venue1</th>\n",
       "      <th>venue2</th>\n",
       "      <th>freq</th>\n",
       "      <th>checks</th>\n",
       "    </tr>\n",
       "  </thead>\n",
       "  <tbody>\n",
       "    <tr>\n",
       "      <th>5</th>\n",
       "      <td>4ae83e74f964a5204bae21e3</td>\n",
       "      <td>4ae83e74f964a5204bae21e3</td>\n",
       "      <td>36</td>\n",
       "      <td>6979</td>\n",
       "    </tr>\n",
       "    <tr>\n",
       "      <th>8</th>\n",
       "      <td>4abf8c03f964a520079120e3</td>\n",
       "      <td>4ac518d2f964a52026a720e3</td>\n",
       "      <td>34</td>\n",
       "      <td>5282</td>\n",
       "    </tr>\n",
       "    <tr>\n",
       "      <th>2</th>\n",
       "      <td>4ac518d2f964a52026a720e3</td>\n",
       "      <td>4bd195aa9854d13a9abff94d</td>\n",
       "      <td>36</td>\n",
       "      <td>2866</td>\n",
       "    </tr>\n",
       "    <tr>\n",
       "      <th>6</th>\n",
       "      <td>4ae5b238f964a52087a121e3</td>\n",
       "      <td>4c359ed7ed37a593d4c47003</td>\n",
       "      <td>35</td>\n",
       "      <td>1325</td>\n",
       "    </tr>\n",
       "    <tr>\n",
       "      <th>4</th>\n",
       "      <td>4acee9a4f964a5200ed220e3</td>\n",
       "      <td>4ace3147f964a520f8ce20e3</td>\n",
       "      <td>36</td>\n",
       "      <td>999</td>\n",
       "    </tr>\n",
       "    <tr>\n",
       "      <th>7</th>\n",
       "      <td>4c653305f07e2d7fec309150</td>\n",
       "      <td>4abf8c03f964a520079120e3</td>\n",
       "      <td>35</td>\n",
       "      <td>983</td>\n",
       "    </tr>\n",
       "    <tr>\n",
       "      <th>3</th>\n",
       "      <td>4ace295ff964a520ccce20e3</td>\n",
       "      <td>506999643d7cfe42e733a829</td>\n",
       "      <td>36</td>\n",
       "      <td>847</td>\n",
       "    </tr>\n",
       "    <tr>\n",
       "      <th>0</th>\n",
       "      <td>4c4ce21c4237be9a86bc0a13</td>\n",
       "      <td>4abf8c03f964a520079120e3</td>\n",
       "      <td>39</td>\n",
       "      <td>427</td>\n",
       "    </tr>\n",
       "    <tr>\n",
       "      <th>1</th>\n",
       "      <td>4c18fe2d6a21c9b670d6c997</td>\n",
       "      <td>4c18fe2d6a21c9b670d6c997</td>\n",
       "      <td>37</td>\n",
       "      <td>365</td>\n",
       "    </tr>\n",
       "    <tr>\n",
       "      <th>9</th>\n",
       "      <td>4ace1361f964a5203bce20e3</td>\n",
       "      <td>4ace2fe8f964a520f0ce20e3</td>\n",
       "      <td>34</td>\n",
       "      <td>163</td>\n",
       "    </tr>\n",
       "  </tbody>\n",
       "</table>\n",
       "</div>"
      ],
      "text/plain": [
       "                     venue1                    venue2  freq  checks\n",
       "5  4ae83e74f964a5204bae21e3  4ae83e74f964a5204bae21e3    36    6979\n",
       "8  4abf8c03f964a520079120e3  4ac518d2f964a52026a720e3    34    5282\n",
       "2  4ac518d2f964a52026a720e3  4bd195aa9854d13a9abff94d    36    2866\n",
       "6  4ae5b238f964a52087a121e3  4c359ed7ed37a593d4c47003    35    1325\n",
       "4  4acee9a4f964a5200ed220e3  4ace3147f964a520f8ce20e3    36     999\n",
       "7  4c653305f07e2d7fec309150  4abf8c03f964a520079120e3    35     983\n",
       "3  4ace295ff964a520ccce20e3  506999643d7cfe42e733a829    36     847\n",
       "0  4c4ce21c4237be9a86bc0a13  4abf8c03f964a520079120e3    39     427\n",
       "1  4c18fe2d6a21c9b670d6c997  4c18fe2d6a21c9b670d6c997    37     365\n",
       "9  4ace1361f964a5203bce20e3  4ace2fe8f964a520f0ce20e3    34     163"
      ]
     },
     "execution_count": 6,
     "metadata": {},
     "output_type": "execute_result"
    }
   ],
   "source": [
    "df.head(10).sort_values(by=['checks'],ascending=False)"
   ]
  },
  {
   "cell_type": "code",
   "execution_count": 11,
   "metadata": {},
   "outputs": [
    {
     "name": "stdout",
     "output_type": "stream",
     "text": [
      "('alpha= ', 1.6325888941252553, '  sigma= ', 0.0002826806495179882)\n"
     ]
    }
   ],
   "source": [
    "import powerlaw as pw\n",
    "import numpy as np\n",
    "fit = pw.Fit(np.array(df['checks'])+1,xmin=1,discrete=True)\n",
    "fit.power_law.plot_pdf( color= 'b',linestyle='--',label='fit ccdf')\n",
    "fit.plot_pdf( color= 'b')\n",
    "print('alpha= ',fit.power_law.alpha,'  sigma= ',fit.power_law.sigma)"
   ]
  },
  {
   "cell_type": "code",
   "execution_count": null,
   "metadata": {},
   "outputs": [],
   "source": []
  }
 ],
 "metadata": {
  "kernelspec": {
   "display_name": "Python 2",
   "language": "python",
   "name": "python2"
  },
  "language_info": {
   "codemirror_mode": {
    "name": "ipython",
    "version": 2
   },
   "file_extension": ".py",
   "mimetype": "text/x-python",
   "name": "python",
   "nbconvert_exporter": "python",
   "pygments_lexer": "ipython2",
   "version": "2.7.15"
  }
 },
 "nbformat": 4,
 "nbformat_minor": 2
}
